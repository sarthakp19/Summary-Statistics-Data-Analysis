{
 "cells": [
  {
   "cell_type": "markdown",
   "id": "bebe070b",
   "metadata": {},
   "source": [
    "# Summarizing Automobile Evaluation Data\n",
    "\n",
    "In the following project we’ll use what we’ve learned about summarizing categorical data to analyze a sample from a popular open source dataset. This dataset contains information on the cost and physical attributes of several thousand cars. Originally, this dataset was used for to train a classification model that assigned an acceptability score/category to cars based on these attributes.\n",
    "\n",
    "The car evaluation dataset has been sourced from the UCI Machine Learning Repository and has been slightly modified for this project. Specifically, one additional field manufacturer_country has been simulated for illustrative purposes."
   ]
  },
  {
   "cell_type": "code",
   "execution_count": 17,
   "id": "8d684997",
   "metadata": {},
   "outputs": [],
   "source": [
    "import pandas as pd\n",
    "import numpy as np"
   ]
  },
  {
   "cell_type": "code",
   "execution_count": 2,
   "id": "219eabab",
   "metadata": {},
   "outputs": [
    {
     "data": {
      "text/html": [
       "<div>\n",
       "<style scoped>\n",
       "    .dataframe tbody tr th:only-of-type {\n",
       "        vertical-align: middle;\n",
       "    }\n",
       "\n",
       "    .dataframe tbody tr th {\n",
       "        vertical-align: top;\n",
       "    }\n",
       "\n",
       "    .dataframe thead th {\n",
       "        text-align: right;\n",
       "    }\n",
       "</style>\n",
       "<table border=\"1\" class=\"dataframe\">\n",
       "  <thead>\n",
       "    <tr style=\"text-align: right;\">\n",
       "      <th></th>\n",
       "      <th>buying_cost</th>\n",
       "      <th>maintenance_cost</th>\n",
       "      <th>doors</th>\n",
       "      <th>capacity</th>\n",
       "      <th>luggage</th>\n",
       "      <th>safety</th>\n",
       "      <th>acceptability</th>\n",
       "      <th>manufacturer_country</th>\n",
       "    </tr>\n",
       "  </thead>\n",
       "  <tbody>\n",
       "    <tr>\n",
       "      <th>0</th>\n",
       "      <td>vhigh</td>\n",
       "      <td>low</td>\n",
       "      <td>4</td>\n",
       "      <td>4</td>\n",
       "      <td>small</td>\n",
       "      <td>med</td>\n",
       "      <td>unacc</td>\n",
       "      <td>China</td>\n",
       "    </tr>\n",
       "    <tr>\n",
       "      <th>1</th>\n",
       "      <td>vhigh</td>\n",
       "      <td>med</td>\n",
       "      <td>3</td>\n",
       "      <td>4</td>\n",
       "      <td>small</td>\n",
       "      <td>high</td>\n",
       "      <td>acc</td>\n",
       "      <td>France</td>\n",
       "    </tr>\n",
       "    <tr>\n",
       "      <th>2</th>\n",
       "      <td>med</td>\n",
       "      <td>high</td>\n",
       "      <td>3</td>\n",
       "      <td>2</td>\n",
       "      <td>med</td>\n",
       "      <td>high</td>\n",
       "      <td>unacc</td>\n",
       "      <td>United States</td>\n",
       "    </tr>\n",
       "    <tr>\n",
       "      <th>3</th>\n",
       "      <td>low</td>\n",
       "      <td>med</td>\n",
       "      <td>4</td>\n",
       "      <td>more</td>\n",
       "      <td>big</td>\n",
       "      <td>low</td>\n",
       "      <td>unacc</td>\n",
       "      <td>United States</td>\n",
       "    </tr>\n",
       "    <tr>\n",
       "      <th>4</th>\n",
       "      <td>low</td>\n",
       "      <td>high</td>\n",
       "      <td>2</td>\n",
       "      <td>more</td>\n",
       "      <td>med</td>\n",
       "      <td>high</td>\n",
       "      <td>acc</td>\n",
       "      <td>South Korea</td>\n",
       "    </tr>\n",
       "  </tbody>\n",
       "</table>\n",
       "</div>"
      ],
      "text/plain": [
       "  buying_cost maintenance_cost doors capacity luggage safety acceptability  \\\n",
       "0       vhigh              low     4        4   small    med         unacc   \n",
       "1       vhigh              med     3        4   small   high           acc   \n",
       "2         med             high     3        2     med   high         unacc   \n",
       "3         low              med     4     more     big    low         unacc   \n",
       "4         low             high     2     more     med   high           acc   \n",
       "\n",
       "  manufacturer_country  \n",
       "0                China  \n",
       "1               France  \n",
       "2        United States  \n",
       "3        United States  \n",
       "4          South Korea  "
      ]
     },
     "execution_count": 2,
     "metadata": {},
     "output_type": "execute_result"
    }
   ],
   "source": [
    "df = pd.read_csv('car_eval_dataset.csv')\n",
    "df.head()"
   ]
  },
  {
   "cell_type": "code",
   "execution_count": 18,
   "id": "b8c36fd9",
   "metadata": {},
   "outputs": [
    {
     "name": "stdout",
     "output_type": "stream",
     "text": [
      "Japan            22.8\n",
      "Germany          21.8\n",
      "South Korea      15.9\n",
      "United States    13.8\n",
      "Italy             9.7\n",
      "France            8.7\n",
      "China             7.3\n",
      "Name: manufacturer_country, dtype: float64\n",
      "['vhigh', 'med', 'low', 'high']\n",
      "Categories (4, object): ['low' < 'med' < 'high' < 'vhigh']\n"
     ]
    }
   ],
   "source": [
    "# a table of proportions for countries that appear in manufacturer_country in the dataset.\n",
    "manufacturer_country_percent = df.manufacturer_country.value_counts(normalize=True) * 100\n",
    "print(manufacturer_country_percent)\n",
    "print(df.buying_cost.unique())"
   ]
  },
  {
   "cell_type": "markdown",
   "id": "c30c8343",
   "metadata": {},
   "source": [
    "# Summarizing Buying Costs"
   ]
  },
  {
   "cell_type": "code",
   "execution_count": 22,
   "id": "c4e2bf0b",
   "metadata": {},
   "outputs": [
    {
     "name": "stdout",
     "output_type": "stream",
     "text": [
      "1.0\n"
     ]
    },
    {
     "data": {
      "text/plain": [
       "1    262\n",
       "0    249\n",
       "2    245\n",
       "3    244\n",
       "dtype: int64"
      ]
     },
     "execution_count": 22,
     "metadata": {},
     "output_type": "execute_result"
    }
   ],
   "source": [
    "# Finding Median Buying Cost\n",
    "df['buying_cost'] = pd.Categorical(df['buying_cost'],['low','med','high','vhigh'],ordered =True)\n",
    "print(np.median(df.buying_cost.cat.codes))\n",
    "df.buying_cost.cat.codes.value_counts()"
   ]
  },
  {
   "cell_type": "markdown",
   "id": "9f11192f",
   "metadata": {},
   "source": [
    "1 is the median which correspond to medium buying cost in our Automobile Evaluation Data .\n",
    "\n",
    "# Summarizing Luggage Capacity"
   ]
  },
  {
   "cell_type": "code",
   "execution_count": 31,
   "id": "ebd807c2",
   "metadata": {},
   "outputs": [
    {
     "name": "stdout",
     "output_type": "stream",
     "text": [
      "['small', 'med', 'big']\n",
      "Categories (3, object): ['small' < 'med' < 'big']\n",
      "0    33.9\n",
      "1    33.3\n",
      "2    32.8\n",
      "dtype: float64\n",
      "1.0\n"
     ]
    }
   ],
   "source": [
    "print(df.luggage.unique())\n",
    "df.luggage = pd.Categorical(df.luggage,['small','med','big'],ordered=True)\n",
    "print(df.luggage.cat.codes.value_counts(normalize =True)*100)\n",
    "print(np.median(df.luggage.cat.codes))"
   ]
  },
  {
   "cell_type": "markdown",
   "id": "2be2f519",
   "metadata": {},
   "source": [
    "1 is the median which correspond to medium sized luggage in our Automobile Evaluation Data.\n",
    "\n",
    "# Summarizing Passenger Capacity"
   ]
  },
  {
   "cell_type": "code",
   "execution_count": 35,
   "id": "b46a5a0f",
   "metadata": {},
   "outputs": [
    {
     "name": "stdout",
     "output_type": "stream",
     "text": [
      "['4', '3', '2', '5more']\n",
      "Categories (4, object): ['2' < '3' < '4' < '5more']\n",
      "2    26.3\n",
      "1    25.2\n",
      "3    24.6\n",
      "0    23.9\n",
      "dtype: float64\n",
      "2.0\n"
     ]
    }
   ],
   "source": [
    "print(df.doors.unique())\n",
    "df.doors = pd.Categorical(df.doors,['2','3','4','5more'],ordered =True)\n",
    "print(df.doors.cat.codes.value_counts(normalize =True)*100)\n",
    "print(np.median(df.doors.cat.codes))"
   ]
  },
  {
   "cell_type": "markdown",
   "id": "3c18535b",
   "metadata": {},
   "source": [
    "2 is the median which correspond to 4 doors in our Automobile Evaluation Data.\n",
    "\n",
    "# Summarizing Passenger Safety"
   ]
  },
  {
   "cell_type": "code",
   "execution_count": 37,
   "id": "c92a749c",
   "metadata": {},
   "outputs": [
    {
     "name": "stdout",
     "output_type": "stream",
     "text": [
      "['med' 'high' 'low']\n",
      "0    34.2\n",
      "1    33.7\n",
      "2    32.1\n",
      "dtype: float64\n",
      "1.0\n"
     ]
    }
   ],
   "source": [
    "print(df.safety.unique())\n",
    "df.safety = pd.Categorical(df.safety,['low','med','high'],ordered =True)\n",
    "print(df.safety.cat.codes.value_counts(normalize =True)*100)\n",
    "print(np.median(df.safety.cat.codes))"
   ]
  },
  {
   "cell_type": "markdown",
   "id": "2b313c93",
   "metadata": {},
   "source": [
    "1 is the median which correspond to medium Safety in our Automobile Evaluation Data."
   ]
  }
 ],
 "metadata": {
  "kernelspec": {
   "display_name": "Python 3",
   "language": "python",
   "name": "python3"
  },
  "language_info": {
   "codemirror_mode": {
    "name": "ipython",
    "version": 3
   },
   "file_extension": ".py",
   "mimetype": "text/x-python",
   "name": "python",
   "nbconvert_exporter": "python",
   "pygments_lexer": "ipython3",
   "version": "3.8.8"
  }
 },
 "nbformat": 4,
 "nbformat_minor": 5
}
