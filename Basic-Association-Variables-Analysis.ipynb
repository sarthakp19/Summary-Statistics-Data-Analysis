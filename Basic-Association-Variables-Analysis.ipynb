{
 "cells": [
  {
   "cell_type": "markdown",
   "id": "af22f11e",
   "metadata": {},
   "source": [
    "# NBA Trends\n",
    "In this project, we’ll analyze data from the NBA (National Basketball Association) and explore possible associations.\n",
    "\n",
    "This data was originally sourced from 538’s Analysis of the Complete History Of The NBA and contains the original, unmodified data from Basketball Reference as well as several additional variables 538 added to perform their own analysis."
   ]
  },
  {
   "cell_type": "code",
   "execution_count": 32,
   "id": "b1cd9abc",
   "metadata": {},
   "outputs": [],
   "source": [
    "import pandas as pd\n",
    "import numpy as np\n",
    "from matplotlib import pyplot as plt\n",
    "import seaborn as sns\n",
    "from scipy.stats import chi2_contingency,pearsonr"
   ]
  },
  {
   "cell_type": "code",
   "execution_count": 4,
   "id": "932d93fc",
   "metadata": {},
   "outputs": [
    {
     "name": "stdout",
     "output_type": "stream",
     "text": [
      "<class 'pandas.core.frame.DataFrame'>\n",
      "RangeIndex: 24359 entries, 0 to 24358\n",
      "Data columns (total 11 columns):\n",
      " #   Column         Non-Null Count  Dtype  \n",
      "---  ------         --------------  -----  \n",
      " 0   game_id        24359 non-null  object \n",
      " 1   year_id        24359 non-null  int64  \n",
      " 2   fran_id        24359 non-null  object \n",
      " 3   opp_fran       24359 non-null  object \n",
      " 4   game_location  24359 non-null  object \n",
      " 5   is_playoffs    24359 non-null  int64  \n",
      " 6   pts            24359 non-null  int64  \n",
      " 7   opp_pts        24359 non-null  int64  \n",
      " 8   game_result    24359 non-null  object \n",
      " 9   forecast       24359 non-null  float64\n",
      " 10  point_diff     24359 non-null  int64  \n",
      "dtypes: float64(1), int64(5), object(5)\n",
      "memory usage: 2.0+ MB\n",
      "None\n"
     ]
    },
    {
     "data": {
      "text/html": [
       "<div>\n",
       "<style scoped>\n",
       "    .dataframe tbody tr th:only-of-type {\n",
       "        vertical-align: middle;\n",
       "    }\n",
       "\n",
       "    .dataframe tbody tr th {\n",
       "        vertical-align: top;\n",
       "    }\n",
       "\n",
       "    .dataframe thead th {\n",
       "        text-align: right;\n",
       "    }\n",
       "</style>\n",
       "<table border=\"1\" class=\"dataframe\">\n",
       "  <thead>\n",
       "    <tr style=\"text-align: right;\">\n",
       "      <th></th>\n",
       "      <th>game_id</th>\n",
       "      <th>year_id</th>\n",
       "      <th>fran_id</th>\n",
       "      <th>opp_fran</th>\n",
       "      <th>game_location</th>\n",
       "      <th>is_playoffs</th>\n",
       "      <th>pts</th>\n",
       "      <th>opp_pts</th>\n",
       "      <th>game_result</th>\n",
       "      <th>forecast</th>\n",
       "      <th>point_diff</th>\n",
       "    </tr>\n",
       "  </thead>\n",
       "  <tbody>\n",
       "    <tr>\n",
       "      <th>0</th>\n",
       "      <td>194611010TRH</td>\n",
       "      <td>1947</td>\n",
       "      <td>Knicks</td>\n",
       "      <td>Huskies</td>\n",
       "      <td>A</td>\n",
       "      <td>0</td>\n",
       "      <td>68</td>\n",
       "      <td>66</td>\n",
       "      <td>W</td>\n",
       "      <td>0.359935</td>\n",
       "      <td>2</td>\n",
       "    </tr>\n",
       "    <tr>\n",
       "      <th>1</th>\n",
       "      <td>194611020CHS</td>\n",
       "      <td>1947</td>\n",
       "      <td>Knicks</td>\n",
       "      <td>Stags</td>\n",
       "      <td>A</td>\n",
       "      <td>0</td>\n",
       "      <td>47</td>\n",
       "      <td>63</td>\n",
       "      <td>L</td>\n",
       "      <td>0.368899</td>\n",
       "      <td>-16</td>\n",
       "    </tr>\n",
       "    <tr>\n",
       "      <th>2</th>\n",
       "      <td>194611020PRO</td>\n",
       "      <td>1947</td>\n",
       "      <td>Celtics</td>\n",
       "      <td>Steamrollers</td>\n",
       "      <td>A</td>\n",
       "      <td>0</td>\n",
       "      <td>53</td>\n",
       "      <td>59</td>\n",
       "      <td>L</td>\n",
       "      <td>0.359935</td>\n",
       "      <td>-6</td>\n",
       "    </tr>\n",
       "    <tr>\n",
       "      <th>3</th>\n",
       "      <td>194611050BOS</td>\n",
       "      <td>1947</td>\n",
       "      <td>Celtics</td>\n",
       "      <td>Stags</td>\n",
       "      <td>H</td>\n",
       "      <td>0</td>\n",
       "      <td>55</td>\n",
       "      <td>57</td>\n",
       "      <td>L</td>\n",
       "      <td>0.620204</td>\n",
       "      <td>-2</td>\n",
       "    </tr>\n",
       "    <tr>\n",
       "      <th>4</th>\n",
       "      <td>194611070STB</td>\n",
       "      <td>1947</td>\n",
       "      <td>Knicks</td>\n",
       "      <td>Bombers</td>\n",
       "      <td>A</td>\n",
       "      <td>0</td>\n",
       "      <td>68</td>\n",
       "      <td>63</td>\n",
       "      <td>W</td>\n",
       "      <td>0.339290</td>\n",
       "      <td>5</td>\n",
       "    </tr>\n",
       "  </tbody>\n",
       "</table>\n",
       "</div>"
      ],
      "text/plain": [
       "        game_id  year_id  fran_id      opp_fran game_location  is_playoffs  \\\n",
       "0  194611010TRH     1947   Knicks       Huskies             A            0   \n",
       "1  194611020CHS     1947   Knicks         Stags             A            0   \n",
       "2  194611020PRO     1947  Celtics  Steamrollers             A            0   \n",
       "3  194611050BOS     1947  Celtics         Stags             H            0   \n",
       "4  194611070STB     1947   Knicks       Bombers             A            0   \n",
       "\n",
       "   pts  opp_pts game_result  forecast  point_diff  \n",
       "0   68       66           W  0.359935           2  \n",
       "1   47       63           L  0.368899         -16  \n",
       "2   53       59           L  0.359935          -6  \n",
       "3   55       57           L  0.620204          -2  \n",
       "4   68       63           W  0.339290           5  "
      ]
     },
     "execution_count": 4,
     "metadata": {},
     "output_type": "execute_result"
    }
   ],
   "source": [
    "df = pd.read_csv('nba_games.csv')\n",
    "print(df.info())\n",
    "df.head()"
   ]
  },
  {
   "cell_type": "code",
   "execution_count": 18,
   "id": "f70e4a13",
   "metadata": {},
   "outputs": [
    {
     "name": "stdout",
     "output_type": "stream",
     "text": [
      "Average Difference in Points Between knicks and Nets is 9.731707317073173\n"
     ]
    }
   ],
   "source": [
    "# Analyzing relationships between Quant and Categorical\n",
    "# Suppose we want to compare the knicks to the nets with respect to points earned per game in NBA 2010 and 2014.\n",
    "new_df_2010 = df[df.year_id == 2010]\n",
    "knicks_pts = new_df_2010[new_df_2010.fran_id == 'Knicks'].pts\n",
    "nets_pts = new_df_2010[new_df_2010.fran_id == 'Nets'].pts\n",
    "knicks_pts_mean = np.mean(knicks_pts)\n",
    "nets_pts_mean = np.mean(nets_pts)\n",
    "Mean_difference =  knicks_pts_mean -  nets_pts_mean\n",
    "print(f'Average Difference in Points Between knicks and Nets is {Mean_difference}')"
   ]
  },
  {
   "cell_type": "code",
   "execution_count": 21,
   "id": "f42dcf2a",
   "metadata": {},
   "outputs": [
    {
     "data": {
      "image/png": "[encoded data removed]",
      "text/plain": [
       "<Figure size 432x288 with 1 Axes>"
      ]
     },
     "metadata": {
      "needs_background": "light"
     },
     "output_type": "display_data"
    }
   ],
   "source": [
    "# Rather than comparing means, it’s useful look at the full distribution of values to understand\n",
    "# whether a difference in means is meaningful.\n",
    "plt.hist(knicks_pts,color='blue',alpha=0.5,density=True,label='Knicks')\n",
    "plt.hist(nets_pts,color='red',alpha=0.5,density=True,label ='Nets')\n",
    "plt.legend()\n",
    "plt.show()"
   ]
  },
  {
   "cell_type": "markdown",
   "id": "b8c0598e",
   "metadata": {},
   "source": [
    "This Overlaping Histogram Suggest that their is some association Between Points of these two teams as less overlaping correspond to more assocoation."
   ]
  },
  {
   "cell_type": "code",
   "execution_count": 22,
   "id": "1b51e6ab",
   "metadata": {},
   "outputs": [
    {
     "name": "stdout",
     "output_type": "stream",
     "text": [
      "Average Difference in Points Between knicks and Nets is 0.44706798131809933\n"
     ]
    }
   ],
   "source": [
    "# Now for NBA 2014\n",
    "new_df_2014 = df[df.year_id == 2014]\n",
    "knicks_pts = new_df_2014[new_df_2014.fran_id == 'Knicks'].pts\n",
    "nets_pts = new_df_2014[new_df_2014.fran_id == 'Nets'].pts\n",
    "knicks_pts_mean = np.mean(knicks_pts)\n",
    "nets_pts_mean = np.mean(nets_pts)\n",
    "Mean_difference =  knicks_pts_mean -  nets_pts_mean\n",
    "print(f'Average Difference in Points Between knicks and Nets is {Mean_difference}')"
   ]
  },
  {
   "cell_type": "code",
   "execution_count": 23,
   "id": "2ecdc34d",
   "metadata": {},
   "outputs": [
    {
     "data": {
      "image/png": "[encoded data removed]",
      "text/plain": [
       "<Figure size 432x288 with 1 Axes>"
      ]
     },
     "metadata": {
      "needs_background": "light"
     },
     "output_type": "display_data"
    }
   ],
   "source": [
    "plt.hist(knicks_pts,color='blue',alpha=0.5,density=True,label='Knicks')\n",
    "plt.hist(nets_pts,color='red',alpha=0.5,density=True,label ='Nets')\n",
    "plt.legend()\n",
    "plt.show()"
   ]
  },
  {
   "cell_type": "markdown",
   "id": "ec3fbf65",
   "metadata": {},
   "source": [
    "This Overlaping Histogram Suggest that their is very low association Between Points of these two teams as more overlaping correspond to less assocoation."
   ]
  },
  {
   "cell_type": "code",
   "execution_count": 25,
   "id": "1a80ceee",
   "metadata": {},
   "outputs": [
    {
     "data": {
      "text/plain": [
       "<AxesSubplot:xlabel='fran_id', ylabel='pts'>"
      ]
     },
     "execution_count": 25,
     "metadata": {},
     "output_type": "execute_result"
    },
    {
     "data": {
      "image/png": "[encoded data removed]",
      "text/plain": [
       "<Figure size 432x288 with 1 Axes>"
      ]
     },
     "metadata": {
      "needs_background": "light"
     },
     "output_type": "display_data"
    }
   ],
   "source": [
    "#  Let’s now include all teams in the dataset and investigate the relationship between franchise and points scored per game.\n",
    "sns.boxplot(data=new_df_2010,x='fran_id',y='pts')"
   ]
  },
  {
   "cell_type": "markdown",
   "id": "2990dd17",
   "metadata": {},
   "source": [
    "Here in this side-by-side box plot the boxes are overlapping suggest very low association between franchaises and points"
   ]
  },
  {
   "cell_type": "code",
   "execution_count": 31,
   "id": "17959995",
   "metadata": {},
   "outputs": [
    {
     "name": "stdout",
     "output_type": "stream",
     "text": [
      "game_location     A     H  N\n",
      "game_result                 \n",
      "L              7105  4298  3\n",
      "W              5003  7942  8\n",
      "0.0558022856011154\n"
     ]
    }
   ],
   "source": [
    "# Analyzing relationships between Categorical variables\n",
    "\n",
    "# The variable game_result indicates whether a team won a particular game ('W' stands for “win” and 'L' stands for “loss”). \n",
    "# The variable game_location indicates whether a team was playing at home, away('H' stands for “home” and 'A' stands for “away”)\n",
    "\n",
    "contingency_table = pd.crosstab(df.game_result,df.game_location)\n",
    "print(contingency_table)\n",
    "\n",
    "# Summarizing contingency table with chi2_contingency\n",
    "\n",
    "chi2,pval,dof,expected = chi2_contingency(contingency_table/len(df))\n",
    "print(chi2)"
   ]
  },
  {
   "cell_type": "markdown",
   "id": "3fb12ab5",
   "metadata": {},
   "source": [
    "Teams tend to win more games at home compared to away.\n",
    "\n",
    "Based on this output, a chi-square this small suggest that there is very little association between game result and location.\n"
   ]
  },
  {
   "cell_type": "code",
   "execution_count": 35,
   "id": "44b58794",
   "metadata": {},
   "outputs": [
    {
     "name": "stdout",
     "output_type": "stream",
     "text": [
      "0.4644799841112692\n"
     ]
    },
    {
     "data": {
      "image/png": "[encoded data removed]",
      "text/plain": [
       "<Figure size 432x288 with 1 Axes>"
      ]
     },
     "metadata": {
      "needs_background": "light"
     },
     "output_type": "display_data"
    }
   ],
   "source": [
    "# Analyzing Relationships Between Quantitative Variables\n",
    "# For each game, 538 has calculated the probability that each team will win the game. In the data, this is saved as forecast. \n",
    "# The point_diff column gives the margin of victory/defeat for each team .\n",
    "\n",
    "corr_forecast_pointdiff,p = pearsonr(df.forecast,df.point_diff)\n",
    "print(corr_forecast_pointdiff)\n",
    "plt.scatter(df.forecast,df.point_diff)\n",
    "plt.xlabel('Forecasted Win Prob.')\n",
    "plt.ylabel('Point Differential')\n",
    "plt.show()"
   ]
  },
  {
   "cell_type": "markdown",
   "id": "0fd329a4",
   "metadata": {},
   "source": [
    "Looking at the plot and Correlation value suggest that there is small linear association between forecast and point Diffference."
   ]
  }
 ],
 "metadata": {
  "kernelspec": {
   "display_name": "Python 3",
   "language": "python",
   "name": "python3"
  },
  "language_info": {
   "codemirror_mode": {
    "name": "ipython",
    "version": 3
   },
   "file_extension": ".py",
   "mimetype": "text/x-python",
   "name": "python",
   "nbconvert_exporter": "python",
   "pygments_lexer": "ipython3",
   "version": "3.8.8"
  }
 },
 "nbformat": 4,
 "nbformat_minor": 5
}
