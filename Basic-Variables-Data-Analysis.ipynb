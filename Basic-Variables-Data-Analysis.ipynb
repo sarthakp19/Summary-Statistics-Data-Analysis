{
 "cells": [
  {
   "cell_type": "markdown",
   "id": "5bf0381a",
   "metadata": {},
   "source": [
    "# Census Variables\n",
    "\n",
    "We have decided to volunteer for our local community by offering to clean their recently collected census data."
   ]
  },
  {
   "cell_type": "code",
   "execution_count": 11,
   "id": "695747ee",
   "metadata": {},
   "outputs": [],
   "source": [
    "import pandas as pd\n",
    "import numpy as np"
   ]
  },
  {
   "cell_type": "code",
   "execution_count": 4,
   "id": "3971561a",
   "metadata": {},
   "outputs": [
    {
     "data": {
      "text/html": [
       "<div>\n",
       "<style scoped>\n",
       "    .dataframe tbody tr th:only-of-type {\n",
       "        vertical-align: middle;\n",
       "    }\n",
       "\n",
       "    .dataframe tbody tr th {\n",
       "        vertical-align: top;\n",
       "    }\n",
       "\n",
       "    .dataframe thead th {\n",
       "        text-align: right;\n",
       "    }\n",
       "</style>\n",
       "<table border=\"1\" class=\"dataframe\">\n",
       "  <thead>\n",
       "    <tr style=\"text-align: right;\">\n",
       "      <th></th>\n",
       "      <th>Unnamed: 0</th>\n",
       "      <th>first_name</th>\n",
       "      <th>last_name</th>\n",
       "      <th>birth_year</th>\n",
       "      <th>voted</th>\n",
       "      <th>num_children</th>\n",
       "      <th>income_year</th>\n",
       "      <th>higher_tax</th>\n",
       "      <th>marital_status</th>\n",
       "    </tr>\n",
       "  </thead>\n",
       "  <tbody>\n",
       "    <tr>\n",
       "      <th>0</th>\n",
       "      <td>0</td>\n",
       "      <td>Denise</td>\n",
       "      <td>Ratke</td>\n",
       "      <td>2005</td>\n",
       "      <td>False</td>\n",
       "      <td>0</td>\n",
       "      <td>92129.41</td>\n",
       "      <td>disagree</td>\n",
       "      <td>single</td>\n",
       "    </tr>\n",
       "    <tr>\n",
       "      <th>1</th>\n",
       "      <td>1</td>\n",
       "      <td>Hali</td>\n",
       "      <td>Cummerata</td>\n",
       "      <td>1987</td>\n",
       "      <td>False</td>\n",
       "      <td>0</td>\n",
       "      <td>75649.17</td>\n",
       "      <td>neutral</td>\n",
       "      <td>divorced</td>\n",
       "    </tr>\n",
       "    <tr>\n",
       "      <th>2</th>\n",
       "      <td>2</td>\n",
       "      <td>Salomon</td>\n",
       "      <td>Orn</td>\n",
       "      <td>1992</td>\n",
       "      <td>True</td>\n",
       "      <td>2</td>\n",
       "      <td>166313.45</td>\n",
       "      <td>agree</td>\n",
       "      <td>single</td>\n",
       "    </tr>\n",
       "    <tr>\n",
       "      <th>3</th>\n",
       "      <td>3</td>\n",
       "      <td>Sarina</td>\n",
       "      <td>Schiller</td>\n",
       "      <td>1965</td>\n",
       "      <td>False</td>\n",
       "      <td>2</td>\n",
       "      <td>71704.81</td>\n",
       "      <td>strongly agree</td>\n",
       "      <td>married</td>\n",
       "    </tr>\n",
       "    <tr>\n",
       "      <th>4</th>\n",
       "      <td>4</td>\n",
       "      <td>Gust</td>\n",
       "      <td>Abernathy</td>\n",
       "      <td>1945</td>\n",
       "      <td>False</td>\n",
       "      <td>2</td>\n",
       "      <td>143316.08</td>\n",
       "      <td>agree</td>\n",
       "      <td>married</td>\n",
       "    </tr>\n",
       "  </tbody>\n",
       "</table>\n",
       "</div>"
      ],
      "text/plain": [
       "   Unnamed: 0 first_name  last_name birth_year  voted  num_children  \\\n",
       "0           0     Denise      Ratke       2005  False             0   \n",
       "1           1       Hali  Cummerata       1987  False             0   \n",
       "2           2    Salomon        Orn       1992   True             2   \n",
       "3           3     Sarina   Schiller       1965  False             2   \n",
       "4           4       Gust  Abernathy       1945  False             2   \n",
       "\n",
       "   income_year      higher_tax marital_status  \n",
       "0     92129.41        disagree         single  \n",
       "1     75649.17         neutral       divorced  \n",
       "2    166313.45           agree         single  \n",
       "3     71704.81  strongly agree        married  \n",
       "4    143316.08           agree        married  "
      ]
     },
     "execution_count": 4,
     "metadata": {},
     "output_type": "execute_result"
    }
   ],
   "source": [
    "df = pd.read_csv('census_data.csv')\n",
    "df.head()"
   ]
  },
  {
   "cell_type": "code",
   "execution_count": 5,
   "id": "d2985299",
   "metadata": {},
   "outputs": [
    {
     "name": "stdout",
     "output_type": "stream",
     "text": [
      "<class 'pandas.core.frame.DataFrame'>\n",
      "RangeIndex: 100 entries, 0 to 99\n",
      "Data columns (total 9 columns):\n",
      " #   Column          Non-Null Count  Dtype  \n",
      "---  ------          --------------  -----  \n",
      " 0   Unnamed: 0      100 non-null    int64  \n",
      " 1   first_name      100 non-null    object \n",
      " 2   last_name       100 non-null    object \n",
      " 3   birth_year      100 non-null    object \n",
      " 4   voted           100 non-null    bool   \n",
      " 5   num_children    100 non-null    int64  \n",
      " 6   income_year     100 non-null    float64\n",
      " 7   higher_tax      100 non-null    object \n",
      " 8   marital_status  100 non-null    object \n",
      "dtypes: bool(1), float64(1), int64(2), object(5)\n",
      "memory usage: 6.5+ KB\n"
     ]
    }
   ],
   "source": [
    "df.info()"
   ]
  },
  {
   "cell_type": "code",
   "execution_count": 21,
   "id": "0cb12308",
   "metadata": {},
   "outputs": [
    {
     "name": "stdout",
     "output_type": "stream",
     "text": [
      "[2005 1987 1992 1965 1945 1951 1963 1949 1950 1971 2007 1944 1995 1973\n",
      " 1946 1954 1994 1989 1947 1993 1976 1984 1967 1966 1941 2000 1953 1956\n",
      " 1960 2001 1980 1955 1985 1996 1968 1979 2006 1962 1981 1959 1977 1978\n",
      " 1983 1957 1961 1982 2002 1998 1999 1952 1940 1986 1958]\n"
     ]
    }
   ],
   "source": [
    "# Birth year seems to be an object it shout be int\n",
    "print(df.birth_year.unique())\n",
    "df.birth_year = df.birth_year.replace('missing',np.NaN)\n"
   ]
  },
  {
   "cell_type": "markdown",
   "id": "1221052f",
   "metadata": {},
   "source": [
    "There appears to be a missing value in the birth_year column. With some research you find that the respondent’s birth year is 1967.\n"
   ]
  },
  {
   "cell_type": "code",
   "execution_count": 20,
   "id": "7d22c4d3",
   "metadata": {},
   "outputs": [
    {
     "name": "stdout",
     "output_type": "stream",
     "text": [
      "<class 'pandas.core.frame.DataFrame'>\n",
      "RangeIndex: 100 entries, 0 to 99\n",
      "Data columns (total 9 columns):\n",
      " #   Column          Non-Null Count  Dtype  \n",
      "---  ------          --------------  -----  \n",
      " 0   Unnamed: 0      100 non-null    int64  \n",
      " 1   first_name      100 non-null    object \n",
      " 2   last_name       100 non-null    object \n",
      " 3   birth_year      100 non-null    int64  \n",
      " 4   voted           100 non-null    bool   \n",
      " 5   num_children    100 non-null    int64  \n",
      " 6   income_year     100 non-null    float64\n",
      " 7   higher_tax      100 non-null    object \n",
      " 8   marital_status  100 non-null    object \n",
      "dtypes: bool(1), float64(1), int64(3), object(4)\n",
      "memory usage: 6.5+ KB\n"
     ]
    }
   ],
   "source": [
    "df.birth_year = df.birth_year.replace(np.NaN,1967)\n",
    "df.birth_year= df.birth_year.astype('int64')\n",
    "df.info()"
   ]
  },
  {
   "cell_type": "code",
   "execution_count": 22,
   "id": "e11083a4",
   "metadata": {},
   "outputs": [
    {
     "name": "stdout",
     "output_type": "stream",
     "text": [
      "1973.4\n"
     ]
    }
   ],
   "source": [
    "print(df.birth_year.mean())"
   ]
  },
  {
   "cell_type": "markdown",
   "id": "53f8e529",
   "metadata": {},
   "source": [
    "\n",
    "Our manager would like to set an order to the higher_tax variable so that: strongly disagree < disagree < neutral < agree < strongly agree."
   ]
  },
  {
   "cell_type": "code",
   "execution_count": 23,
   "id": "48098ec1",
   "metadata": {},
   "outputs": [
    {
     "name": "stdout",
     "output_type": "stream",
     "text": [
      "['disagree' 'neutral' 'agree' 'strongly agree' 'strongly disagree']\n"
     ]
    }
   ],
   "source": [
    "print(df.higher_tax.unique())"
   ]
  },
  {
   "cell_type": "code",
   "execution_count": 26,
   "id": "ededdc13",
   "metadata": {},
   "outputs": [
    {
     "name": "stdout",
     "output_type": "stream",
     "text": [
      "2.0\n"
     ]
    }
   ],
   "source": [
    "df.higher_tax = pd.Categorical(df.higher_tax,['strongly disagree','disagree','neutral','agree','strongly agree'])\n",
    "df.higher_tax = df.higher_tax.cat.codes\n",
    "# Our manager would also like to know the median sentiment of the respondents on the issue of higher taxes for the wealthy.\n",
    "print(df.higher_tax.median())"
   ]
  },
  {
   "cell_type": "markdown",
   "id": "4dcdf880",
   "metadata": {},
   "source": [
    "2 means Nuetral\n",
    "\n",
    "\n",
    "\n",
    "Our manager is interested in using machine learning models on the census data in the future. To help, let’s One-Hot Encode marital_status to create binary variables of each category."
   ]
  },
  {
   "cell_type": "code",
   "execution_count": null,
   "id": "82e0ece0",
   "metadata": {},
   "outputs": [],
   "source": [
    "df = pd.get_dummies(df,columns = ['marital_status'])\n"
   ]
  }
 ],
 "metadata": {
  "kernelspec": {
   "display_name": "Python 3",
   "language": "python",
   "name": "python3"
  },
  "language_info": {
   "codemirror_mode": {
    "name": "ipython",
    "version": 3
   },
   "file_extension": ".py",
   "mimetype": "text/x-python",
   "name": "python",
   "nbconvert_exporter": "python",
   "pygments_lexer": "ipython3",
   "version": "3.8.8"
  }
 },
 "nbformat": 4,
 "nbformat_minor": 5
}
