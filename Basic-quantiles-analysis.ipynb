{
 "cells": [
  {
   "cell_type": "markdown",
   "id": "c9fdf898",
   "metadata": {},
   "source": [
    "# Life Expectancy By Country\n",
    "\n",
    "Over the course of the past few centuries, technological and medical advancements have helped increase the life expectancy of humans. However, as of now, the average life expectancy of humans varies depending on what country you live in.\n",
    "\n",
    "In this project, we will investigate a dataset containing information about the average life expectancy in 158 different countries. We will specifically look at how a country’s economic success might impact the life expectancy in that area."
   ]
  },
  {
   "cell_type": "code",
   "execution_count": 10,
   "id": "86d71ae6",
   "metadata": {},
   "outputs": [],
   "source": [
    "import pandas as pd\n",
    "import numpy as np\n",
    "from matplotlib import pyplot as plt"
   ]
  },
  {
   "cell_type": "code",
   "execution_count": 4,
   "id": "1b81eaf9",
   "metadata": {},
   "outputs": [
    {
     "data": {
      "text/html": [
       "<div>\n",
       "<style scoped>\n",
       "    .dataframe tbody tr th:only-of-type {\n",
       "        vertical-align: middle;\n",
       "    }\n",
       "\n",
       "    .dataframe tbody tr th {\n",
       "        vertical-align: top;\n",
       "    }\n",
       "\n",
       "    .dataframe thead th {\n",
       "        text-align: right;\n",
       "    }\n",
       "</style>\n",
       "<table border=\"1\" class=\"dataframe\">\n",
       "  <thead>\n",
       "    <tr style=\"text-align: right;\">\n",
       "      <th></th>\n",
       "      <th>Country</th>\n",
       "      <th>Life Expectancy</th>\n",
       "      <th>GDP</th>\n",
       "    </tr>\n",
       "  </thead>\n",
       "  <tbody>\n",
       "    <tr>\n",
       "      <th>0</th>\n",
       "      <td>Afghanistan</td>\n",
       "      <td>58.19375</td>\n",
       "      <td>340.015425</td>\n",
       "    </tr>\n",
       "    <tr>\n",
       "      <th>1</th>\n",
       "      <td>Albania</td>\n",
       "      <td>75.15625</td>\n",
       "      <td>2119.726679</td>\n",
       "    </tr>\n",
       "    <tr>\n",
       "      <th>2</th>\n",
       "      <td>Algeria</td>\n",
       "      <td>73.61875</td>\n",
       "      <td>2847.853392</td>\n",
       "    </tr>\n",
       "    <tr>\n",
       "      <th>3</th>\n",
       "      <td>Angola</td>\n",
       "      <td>49.01875</td>\n",
       "      <td>1975.143045</td>\n",
       "    </tr>\n",
       "    <tr>\n",
       "      <th>4</th>\n",
       "      <td>Antigua and Barbuda</td>\n",
       "      <td>75.05625</td>\n",
       "      <td>9759.305728</td>\n",
       "    </tr>\n",
       "  </tbody>\n",
       "</table>\n",
       "</div>"
      ],
      "text/plain": [
       "               Country  Life Expectancy          GDP\n",
       "0          Afghanistan         58.19375   340.015425\n",
       "1              Albania         75.15625  2119.726679\n",
       "2              Algeria         73.61875  2847.853392\n",
       "3               Angola         49.01875  1975.143045\n",
       "4  Antigua and Barbuda         75.05625  9759.305728"
      ]
     },
     "execution_count": 4,
     "metadata": {},
     "output_type": "execute_result"
    }
   ],
   "source": [
    "df = pd.read_csv('country_data.csv')\n",
    "df.head()"
   ]
  },
  {
   "cell_type": "code",
   "execution_count": 15,
   "id": "166567d3",
   "metadata": {},
   "outputs": [
    {
     "name": "stdout",
     "output_type": "stream",
     "text": [
      "69.24851002109703\n"
     ]
    },
    {
     "data": {
      "text/plain": [
       "array([62.325    , 72.525    , 75.4421875])"
      ]
     },
     "execution_count": 15,
     "metadata": {},
     "output_type": "execute_result"
    }
   ],
   "source": [
    "life_expectency = df['Life Expectancy']\n",
    "life_expectancy_quartiles  = np.quantile(life_expectency,[0.25,0.5,0.75])\n",
    "print(np.mean(life_expectency))\n",
    "life_expectancy_quartiles"
   ]
  },
  {
   "cell_type": "markdown",
   "id": "40b84e1f",
   "metadata": {},
   "source": [
    "\n",
    " By looking at those three values we can get a sense of the spread of the data. For example, it seems like some of the data is fairly close together — a quarter of the data is between 72.5 years and 75.4 years."
   ]
  },
  {
   "cell_type": "code",
   "execution_count": 13,
   "id": "afed656e",
   "metadata": {},
   "outputs": [
    {
     "data": {
      "image/png": "[encoded data removed]",
      "text/plain": [
       "<Figure size 432x288 with 1 Axes>"
      ]
     },
     "metadata": {
      "needs_background": "light"
     },
     "output_type": "display_data"
    }
   ],
   "source": [
    "plt.hist(life_expectency)\n",
    "plt.xlabel('Age')\n",
    "plt.ylabel('Count')\n",
    "plt.title('Life Expectancy Histogram')\n",
    "plt.show()"
   ]
  },
  {
   "cell_type": "markdown",
   "id": "ffa04c84",
   "metadata": {},
   "source": [
    "\n",
    "Let’s take a moment to think about the meaning of these quartiles. If our country has a life expectancy of 70 years, does that fall in the first, second, third, or final quarter of the data?\n",
    "\n",
    "70 is between the first and second quartile, so it falls in the second quarter of the data."
   ]
  },
  {
   "cell_type": "markdown",
   "id": "916d0fcb",
   "metadata": {},
   "source": [
    "# Splitting the Data by GDP\n",
    "\n",
    "\n",
    "GDP is a mesaure of a country’s wealth. Let’s now use the GDP data to see if life expectancy is affected by this value."
   ]
  },
  {
   "cell_type": "code",
   "execution_count": 21,
   "id": "227e3042",
   "metadata": {},
   "outputs": [
    {
     "name": "stdout",
     "output_type": "stream",
     "text": [
      "<class 'pandas.core.frame.DataFrame'>\n",
      "RangeIndex: 158 entries, 0 to 157\n",
      "Data columns (total 3 columns):\n",
      " #   Column           Non-Null Count  Dtype  \n",
      "---  ------           --------------  -----  \n",
      " 0   Country          158 non-null    object \n",
      " 1   Life Expectancy  158 non-null    float64\n",
      " 2   GDP              158 non-null    float64\n",
      "dtypes: float64(2), object(1)\n",
      "memory usage: 3.8+ KB\n"
     ]
    }
   ],
   "source": [
    "df.info()"
   ]
  },
  {
   "cell_type": "code",
   "execution_count": 18,
   "id": "5d029758",
   "metadata": {},
   "outputs": [
    {
     "data": {
      "text/plain": [
       "2938.0781152500003"
      ]
     },
     "execution_count": 18,
     "metadata": {},
     "output_type": "execute_result"
    }
   ],
   "source": [
    "gdp = df.GDP\n",
    "median_gdp = np.median(gdp)\n",
    "median_gdp"
   ]
  },
  {
   "cell_type": "code",
   "execution_count": 31,
   "id": "4c572133",
   "metadata": {},
   "outputs": [
    {
     "name": "stdout",
     "output_type": "stream",
     "text": [
      "[ 410.67611404  801.91238317 1955.76724175]\n",
      "[ 4686.35332822  7902.41078856 20489.79523625]\n"
     ]
    }
   ],
   "source": [
    "# Let’s now grab all of the rows from our original dataset that have a GDP less than or equal to the median. \n",
    "low_gdp = df[df['GDP'] <= median_gdp]\n",
    "high_gdp = df[df['GDP'] > median_gdp]\n",
    "\n",
    "low_gdp_quartiles = np.quantile(low_gdp.GDP,[0.25,0.5,0.75])\n",
    "high_gdp_quartiles = np.quantile(high_gdp.GDP,[0.25,0.5,0.75])\n",
    "print(low_gdp_quartiles)\n",
    "print(high_gdp_quartiles)"
   ]
  },
  {
   "cell_type": "markdown",
   "id": "fba9a8c2",
   "metadata": {},
   "source": [
    "\n",
    "By looking at the quantiles, we should get a sense of the spread and central tendency of these two datasets."
   ]
  },
  {
   "cell_type": "code",
   "execution_count": 32,
   "id": "01e99633",
   "metadata": {},
   "outputs": [
    {
     "data": {
      "image/png": "[encoded data removed]",
      "text/plain": [
       "<Figure size 432x288 with 1 Axes>"
      ]
     },
     "metadata": {
      "needs_background": "light"
     },
     "output_type": "display_data"
    }
   ],
   "source": [
    "plt.hist(high_gdp[\"Life Expectancy\"], alpha = 0.5, label = \"High GDP\")\n",
    "plt.hist(low_gdp[\"Life Expectancy\"], alpha = 0.5, label = \"Low GDP\")\n",
    "plt.legend()\n",
    "plt.show()"
   ]
  },
  {
   "cell_type": "markdown",
   "id": "6eb1ee0b",
   "metadata": {},
   "source": [
    "Once again, consider a country that has a life expectancy of 70 years. If that country is in the top half of GDP countries, is it in the first, second, third, or fourth quarter of the data with respect to life expectancy?\n",
    "What if the country is in the bottom half of GDP countries? \n",
    "\n",
    "70 is below the first quartile of the high GDP dataset, so it falls in the first quarter of that dataset. 70 is between the second and third quartile of the low GDP dataset, so it falls in the third quarter."
   ]
  }
 ],
 "metadata": {
  "kernelspec": {
   "display_name": "Python 3",
   "language": "python",
   "name": "python3"
  },
  "language_info": {
   "codemirror_mode": {
    "name": "ipython",
    "version": 3
   },
   "file_extension": ".py",
   "mimetype": "text/x-python",
   "name": "python",
   "nbconvert_exporter": "python",
   "pygments_lexer": "ipython3",
   "version": "3.8.8"
  }
 },
 "nbformat": 4,
 "nbformat_minor": 5
}
